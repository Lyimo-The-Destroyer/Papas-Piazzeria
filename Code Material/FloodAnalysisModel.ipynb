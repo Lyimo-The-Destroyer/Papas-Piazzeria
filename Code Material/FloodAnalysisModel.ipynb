{
 "cells": [
  {
   "cell_type": "markdown",
   "id": "0380322b",
   "metadata": {
    "jp-MarkdownHeadingCollapsed": true
   },
   "source": [
    "# THE BIG PROJECT\n",
    "## Papas-Piazzeria\n",
    "### Flood Data Investigation Model\n",
    "\n",
    "Maya Chai-Foo 1006946405,\n",
    "Aaron Lyimo 1007483108,\n",
    "Daniel Rivera Naraez 1007790455,\n",
    "Aziz Yussupov 1007252759,"
   ]
  },
  {
   "cell_type": "code",
   "execution_count": 2,
   "id": "cbc970f4-d141-467d-93d5-036d8ba70130",
   "metadata": {},
   "outputs": [],
   "source": [
    "import numpy as np\n",
    "import pandas as pd\n",
    "import seaborn as sns\n",
    "import matplotlib.pylab as plt\n",
    "import matplotlib.pyplot as plt\n",
    "\n",
    "# Configure Notebook\n",
    "%matplotlib inline\n",
    "plt.style.use('fivethirtyeight')\n",
    "sns.set_context(\"notebook\")\n",
    "import warnings\n",
    "warnings.filterwarnings('ignore')"
   ]
  },
  {
   "cell_type": "markdown",
   "id": "6008bf2e",
   "metadata": {
    "jp-MarkdownHeadingCollapsed": true
   },
   "source": [
    "## 0. Import Data\n",
    "Let's start by importing the data. we will look at the information of the table for inspection. "
   ]
  },
  {
   "cell_type": "markdown",
   "id": "94d2bf49",
   "metadata": {},
   "source": [
    "Webscraping neighbourhood income data"
   ]
  },
  {
   "cell_type": "code",
   "execution_count": 3,
   "id": "6b7a7ffb-ef6f-472c-b5bb-5f749e0bd1ab",
   "metadata": {},
   "outputs": [
    {
     "data": {
      "text/html": [
       "<div>\n",
       "<style scoped>\n",
       "    .dataframe tbody tr th:only-of-type {\n",
       "        vertical-align: middle;\n",
       "    }\n",
       "\n",
       "    .dataframe tbody tr th {\n",
       "        vertical-align: top;\n",
       "    }\n",
       "\n",
       "    .dataframe thead th {\n",
       "        text-align: right;\n",
       "    }\n",
       "</style>\n",
       "<table border=\"1\" class=\"dataframe\">\n",
       "  <thead>\n",
       "    <tr style=\"text-align: right;\">\n",
       "      <th></th>\n",
       "      <th>Neighbourhood</th>\n",
       "      <th>Median Income Before Tax</th>\n",
       "    </tr>\n",
       "  </thead>\n",
       "  <tbody>\n",
       "    <tr>\n",
       "      <th>0</th>\n",
       "      <td>Toronto</td>\n",
       "      <td>97000</td>\n",
       "    </tr>\n",
       "    <tr>\n",
       "      <th>1</th>\n",
       "      <td>Agincourt North</td>\n",
       "      <td>89000</td>\n",
       "    </tr>\n",
       "    <tr>\n",
       "      <th>2</th>\n",
       "      <td>Agincourt South-Malvern West</td>\n",
       "      <td>89000</td>\n",
       "    </tr>\n",
       "    <tr>\n",
       "      <th>3</th>\n",
       "      <td>Malvern East</td>\n",
       "      <td>89000</td>\n",
       "    </tr>\n",
       "    <tr>\n",
       "      <th>4</th>\n",
       "      <td>Malvern West</td>\n",
       "      <td>89000</td>\n",
       "    </tr>\n",
       "  </tbody>\n",
       "</table>\n",
       "</div>"
      ],
      "text/plain": [
       "                  Neighbourhood  Median Income Before Tax\n",
       "0                       Toronto                     97000\n",
       "1               Agincourt North                     89000\n",
       "2  Agincourt South-Malvern West                     89000\n",
       "3                  Malvern East                     89000\n",
       "4                  Malvern West                     89000"
      ]
     },
     "execution_count": 3,
     "metadata": {},
     "output_type": "execute_result"
    }
   ],
   "source": [
    "# Load the data file\n",
    "income_file_path = 'median_income_by_neighbourhood.csv'\n",
    "income_data = pd.read_csv(income_file_path)\n",
    "income_data.head()"
   ]
  },
  {
   "cell_type": "markdown",
   "id": "bf674644",
   "metadata": {},
   "source": [
    "Finding the water levels at black creek and don river for flooding event of interest (july 8th 2013)"
   ]
  },
  {
   "cell_type": "code",
   "execution_count": 4,
   "id": "2c31fdf2",
   "metadata": {},
   "outputs": [
    {
     "ename": "FileNotFoundError",
     "evalue": "[Errno 2] No such file or directory: 'flow data.csv'",
     "output_type": "error",
     "traceback": [
      "\u001b[1;31m---------------------------------------------------------------------------\u001b[0m",
      "\u001b[1;31mFileNotFoundError\u001b[0m                         Traceback (most recent call last)",
      "Cell \u001b[1;32mIn[4], line 5\u001b[0m\n\u001b[0;32m      3\u001b[0m \u001b[38;5;66;03m# Load the data file\u001b[39;00m\n\u001b[0;32m      4\u001b[0m file_name \u001b[38;5;241m=\u001b[39m \u001b[38;5;124m'\u001b[39m\u001b[38;5;124mflow data.csv\u001b[39m\u001b[38;5;124m'\u001b[39m\n\u001b[1;32m----> 5\u001b[0m data \u001b[38;5;241m=\u001b[39m pd\u001b[38;5;241m.\u001b[39mread_csv(file_name, header\u001b[38;5;241m=\u001b[39m\u001b[38;5;28;01mNone\u001b[39;00m, skiprows\u001b[38;5;241m=\u001b[39m\u001b[38;5;241m1\u001b[39m)\n\u001b[0;32m      7\u001b[0m \u001b[38;5;66;03m# Assign column names\u001b[39;00m\n\u001b[0;32m      8\u001b[0m data\u001b[38;5;241m.\u001b[39mcolumns \u001b[38;5;241m=\u001b[39m [\u001b[38;5;124m'\u001b[39m\u001b[38;5;124mID\u001b[39m\u001b[38;5;124m'\u001b[39m, \u001b[38;5;124m'\u001b[39m\u001b[38;5;124mPARAM\u001b[39m\u001b[38;5;124m'\u001b[39m, \u001b[38;5;124m'\u001b[39m\u001b[38;5;124mDate\u001b[39m\u001b[38;5;124m'\u001b[39m, \u001b[38;5;124m'\u001b[39m\u001b[38;5;124mValue\u001b[39m\u001b[38;5;124m'\u001b[39m, \u001b[38;5;124m'\u001b[39m\u001b[38;5;124mSYM\u001b[39m\u001b[38;5;124m'\u001b[39m]\n",
      "File \u001b[1;32mc:\\Users\\aaron\\anaconda3\\Lib\\site-packages\\pandas\\io\\parsers\\readers.py:1026\u001b[0m, in \u001b[0;36mread_csv\u001b[1;34m(filepath_or_buffer, sep, delimiter, header, names, index_col, usecols, dtype, engine, converters, true_values, false_values, skipinitialspace, skiprows, skipfooter, nrows, na_values, keep_default_na, na_filter, verbose, skip_blank_lines, parse_dates, infer_datetime_format, keep_date_col, date_parser, date_format, dayfirst, cache_dates, iterator, chunksize, compression, thousands, decimal, lineterminator, quotechar, quoting, doublequote, escapechar, comment, encoding, encoding_errors, dialect, on_bad_lines, delim_whitespace, low_memory, memory_map, float_precision, storage_options, dtype_backend)\u001b[0m\n\u001b[0;32m   1013\u001b[0m kwds_defaults \u001b[38;5;241m=\u001b[39m _refine_defaults_read(\n\u001b[0;32m   1014\u001b[0m     dialect,\n\u001b[0;32m   1015\u001b[0m     delimiter,\n\u001b[1;32m   (...)\u001b[0m\n\u001b[0;32m   1022\u001b[0m     dtype_backend\u001b[38;5;241m=\u001b[39mdtype_backend,\n\u001b[0;32m   1023\u001b[0m )\n\u001b[0;32m   1024\u001b[0m kwds\u001b[38;5;241m.\u001b[39mupdate(kwds_defaults)\n\u001b[1;32m-> 1026\u001b[0m \u001b[38;5;28;01mreturn\u001b[39;00m _read(filepath_or_buffer, kwds)\n",
      "File \u001b[1;32mc:\\Users\\aaron\\anaconda3\\Lib\\site-packages\\pandas\\io\\parsers\\readers.py:620\u001b[0m, in \u001b[0;36m_read\u001b[1;34m(filepath_or_buffer, kwds)\u001b[0m\n\u001b[0;32m    617\u001b[0m _validate_names(kwds\u001b[38;5;241m.\u001b[39mget(\u001b[38;5;124m\"\u001b[39m\u001b[38;5;124mnames\u001b[39m\u001b[38;5;124m\"\u001b[39m, \u001b[38;5;28;01mNone\u001b[39;00m))\n\u001b[0;32m    619\u001b[0m \u001b[38;5;66;03m# Create the parser.\u001b[39;00m\n\u001b[1;32m--> 620\u001b[0m parser \u001b[38;5;241m=\u001b[39m TextFileReader(filepath_or_buffer, \u001b[38;5;241m*\u001b[39m\u001b[38;5;241m*\u001b[39mkwds)\n\u001b[0;32m    622\u001b[0m \u001b[38;5;28;01mif\u001b[39;00m chunksize \u001b[38;5;129;01mor\u001b[39;00m iterator:\n\u001b[0;32m    623\u001b[0m     \u001b[38;5;28;01mreturn\u001b[39;00m parser\n",
      "File \u001b[1;32mc:\\Users\\aaron\\anaconda3\\Lib\\site-packages\\pandas\\io\\parsers\\readers.py:1620\u001b[0m, in \u001b[0;36mTextFileReader.__init__\u001b[1;34m(self, f, engine, **kwds)\u001b[0m\n\u001b[0;32m   1617\u001b[0m     \u001b[38;5;28mself\u001b[39m\u001b[38;5;241m.\u001b[39moptions[\u001b[38;5;124m\"\u001b[39m\u001b[38;5;124mhas_index_names\u001b[39m\u001b[38;5;124m\"\u001b[39m] \u001b[38;5;241m=\u001b[39m kwds[\u001b[38;5;124m\"\u001b[39m\u001b[38;5;124mhas_index_names\u001b[39m\u001b[38;5;124m\"\u001b[39m]\n\u001b[0;32m   1619\u001b[0m \u001b[38;5;28mself\u001b[39m\u001b[38;5;241m.\u001b[39mhandles: IOHandles \u001b[38;5;241m|\u001b[39m \u001b[38;5;28;01mNone\u001b[39;00m \u001b[38;5;241m=\u001b[39m \u001b[38;5;28;01mNone\u001b[39;00m\n\u001b[1;32m-> 1620\u001b[0m \u001b[38;5;28mself\u001b[39m\u001b[38;5;241m.\u001b[39m_engine \u001b[38;5;241m=\u001b[39m \u001b[38;5;28mself\u001b[39m\u001b[38;5;241m.\u001b[39m_make_engine(f, \u001b[38;5;28mself\u001b[39m\u001b[38;5;241m.\u001b[39mengine)\n",
      "File \u001b[1;32mc:\\Users\\aaron\\anaconda3\\Lib\\site-packages\\pandas\\io\\parsers\\readers.py:1880\u001b[0m, in \u001b[0;36mTextFileReader._make_engine\u001b[1;34m(self, f, engine)\u001b[0m\n\u001b[0;32m   1878\u001b[0m     \u001b[38;5;28;01mif\u001b[39;00m \u001b[38;5;124m\"\u001b[39m\u001b[38;5;124mb\u001b[39m\u001b[38;5;124m\"\u001b[39m \u001b[38;5;129;01mnot\u001b[39;00m \u001b[38;5;129;01min\u001b[39;00m mode:\n\u001b[0;32m   1879\u001b[0m         mode \u001b[38;5;241m+\u001b[39m\u001b[38;5;241m=\u001b[39m \u001b[38;5;124m\"\u001b[39m\u001b[38;5;124mb\u001b[39m\u001b[38;5;124m\"\u001b[39m\n\u001b[1;32m-> 1880\u001b[0m \u001b[38;5;28mself\u001b[39m\u001b[38;5;241m.\u001b[39mhandles \u001b[38;5;241m=\u001b[39m get_handle(\n\u001b[0;32m   1881\u001b[0m     f,\n\u001b[0;32m   1882\u001b[0m     mode,\n\u001b[0;32m   1883\u001b[0m     encoding\u001b[38;5;241m=\u001b[39m\u001b[38;5;28mself\u001b[39m\u001b[38;5;241m.\u001b[39moptions\u001b[38;5;241m.\u001b[39mget(\u001b[38;5;124m\"\u001b[39m\u001b[38;5;124mencoding\u001b[39m\u001b[38;5;124m\"\u001b[39m, \u001b[38;5;28;01mNone\u001b[39;00m),\n\u001b[0;32m   1884\u001b[0m     compression\u001b[38;5;241m=\u001b[39m\u001b[38;5;28mself\u001b[39m\u001b[38;5;241m.\u001b[39moptions\u001b[38;5;241m.\u001b[39mget(\u001b[38;5;124m\"\u001b[39m\u001b[38;5;124mcompression\u001b[39m\u001b[38;5;124m\"\u001b[39m, \u001b[38;5;28;01mNone\u001b[39;00m),\n\u001b[0;32m   1885\u001b[0m     memory_map\u001b[38;5;241m=\u001b[39m\u001b[38;5;28mself\u001b[39m\u001b[38;5;241m.\u001b[39moptions\u001b[38;5;241m.\u001b[39mget(\u001b[38;5;124m\"\u001b[39m\u001b[38;5;124mmemory_map\u001b[39m\u001b[38;5;124m\"\u001b[39m, \u001b[38;5;28;01mFalse\u001b[39;00m),\n\u001b[0;32m   1886\u001b[0m     is_text\u001b[38;5;241m=\u001b[39mis_text,\n\u001b[0;32m   1887\u001b[0m     errors\u001b[38;5;241m=\u001b[39m\u001b[38;5;28mself\u001b[39m\u001b[38;5;241m.\u001b[39moptions\u001b[38;5;241m.\u001b[39mget(\u001b[38;5;124m\"\u001b[39m\u001b[38;5;124mencoding_errors\u001b[39m\u001b[38;5;124m\"\u001b[39m, \u001b[38;5;124m\"\u001b[39m\u001b[38;5;124mstrict\u001b[39m\u001b[38;5;124m\"\u001b[39m),\n\u001b[0;32m   1888\u001b[0m     storage_options\u001b[38;5;241m=\u001b[39m\u001b[38;5;28mself\u001b[39m\u001b[38;5;241m.\u001b[39moptions\u001b[38;5;241m.\u001b[39mget(\u001b[38;5;124m\"\u001b[39m\u001b[38;5;124mstorage_options\u001b[39m\u001b[38;5;124m\"\u001b[39m, \u001b[38;5;28;01mNone\u001b[39;00m),\n\u001b[0;32m   1889\u001b[0m )\n\u001b[0;32m   1890\u001b[0m \u001b[38;5;28;01massert\u001b[39;00m \u001b[38;5;28mself\u001b[39m\u001b[38;5;241m.\u001b[39mhandles \u001b[38;5;129;01mis\u001b[39;00m \u001b[38;5;129;01mnot\u001b[39;00m \u001b[38;5;28;01mNone\u001b[39;00m\n\u001b[0;32m   1891\u001b[0m f \u001b[38;5;241m=\u001b[39m \u001b[38;5;28mself\u001b[39m\u001b[38;5;241m.\u001b[39mhandles\u001b[38;5;241m.\u001b[39mhandle\n",
      "File \u001b[1;32mc:\\Users\\aaron\\anaconda3\\Lib\\site-packages\\pandas\\io\\common.py:873\u001b[0m, in \u001b[0;36mget_handle\u001b[1;34m(path_or_buf, mode, encoding, compression, memory_map, is_text, errors, storage_options)\u001b[0m\n\u001b[0;32m    868\u001b[0m \u001b[38;5;28;01melif\u001b[39;00m \u001b[38;5;28misinstance\u001b[39m(handle, \u001b[38;5;28mstr\u001b[39m):\n\u001b[0;32m    869\u001b[0m     \u001b[38;5;66;03m# Check whether the filename is to be opened in binary mode.\u001b[39;00m\n\u001b[0;32m    870\u001b[0m     \u001b[38;5;66;03m# Binary mode does not support 'encoding' and 'newline'.\u001b[39;00m\n\u001b[0;32m    871\u001b[0m     \u001b[38;5;28;01mif\u001b[39;00m ioargs\u001b[38;5;241m.\u001b[39mencoding \u001b[38;5;129;01mand\u001b[39;00m \u001b[38;5;124m\"\u001b[39m\u001b[38;5;124mb\u001b[39m\u001b[38;5;124m\"\u001b[39m \u001b[38;5;129;01mnot\u001b[39;00m \u001b[38;5;129;01min\u001b[39;00m ioargs\u001b[38;5;241m.\u001b[39mmode:\n\u001b[0;32m    872\u001b[0m         \u001b[38;5;66;03m# Encoding\u001b[39;00m\n\u001b[1;32m--> 873\u001b[0m         handle \u001b[38;5;241m=\u001b[39m \u001b[38;5;28mopen\u001b[39m(\n\u001b[0;32m    874\u001b[0m             handle,\n\u001b[0;32m    875\u001b[0m             ioargs\u001b[38;5;241m.\u001b[39mmode,\n\u001b[0;32m    876\u001b[0m             encoding\u001b[38;5;241m=\u001b[39mioargs\u001b[38;5;241m.\u001b[39mencoding,\n\u001b[0;32m    877\u001b[0m             errors\u001b[38;5;241m=\u001b[39merrors,\n\u001b[0;32m    878\u001b[0m             newline\u001b[38;5;241m=\u001b[39m\u001b[38;5;124m\"\u001b[39m\u001b[38;5;124m\"\u001b[39m,\n\u001b[0;32m    879\u001b[0m         )\n\u001b[0;32m    880\u001b[0m     \u001b[38;5;28;01melse\u001b[39;00m:\n\u001b[0;32m    881\u001b[0m         \u001b[38;5;66;03m# Binary mode\u001b[39;00m\n\u001b[0;32m    882\u001b[0m         handle \u001b[38;5;241m=\u001b[39m \u001b[38;5;28mopen\u001b[39m(handle, ioargs\u001b[38;5;241m.\u001b[39mmode)\n",
      "\u001b[1;31mFileNotFoundError\u001b[0m: [Errno 2] No such file or directory: 'flow data.csv'"
     ]
    }
   ],
   "source": [
    "import pandas as pd\n",
    "\n",
    "# Load the data file\n",
    "file_name = 'flow data.csv'\n",
    "data = pd.read_csv(file_name, header=None, skiprows=1)\n",
    "\n",
    "# Assign column names\n",
    "data.columns = ['ID', 'PARAM', 'Date', 'Value', 'SYM']\n",
    "\n",
    "# Convert 'Date' to datetime format and filter 'PARAM' column for valid values\n",
    "data['Date'] = pd.to_datetime(data['Date'], errors='coerce')\n",
    "data = data[data['PARAM'].isin(['1', '2'])].copy()\n",
    "data['PARAM'] = data['PARAM'].astype(int)\n",
    "\n",
    "# Filter for July 8, 2013, and parameter 2 (level data)\n",
    "july_8_2013_level_data = data[(data['PARAM'] == 2) & (data['Date'] == '2013-07-08')]\n",
    "\n",
    "july_8_2013_level_data = july_8_2013_level_data [['ID','Date','Value']]\n",
    "\n",
    "# Display the filtered data\n",
    "print(july_8_2013_level_data)\n"
   ]
  },
  {
   "cell_type": "markdown",
   "id": "938fc1f2",
   "metadata": {},
   "source": [
    "Finding the baseline water levels for these rivers"
   ]
  },
  {
   "cell_type": "code",
   "execution_count": null,
   "id": "6a269734",
   "metadata": {},
   "outputs": [],
   "source": [
    "# Filter only for PARAM = 2 (water level data) and convert 'Value' to numeric\n",
    "water_level_data = data[data['PARAM'] == 2]\n",
    "water_level_data['Value'] = pd.to_numeric(water_level_data['Value'], errors='coerce')\n",
    "\n",
    "# Filter data for July across all years\n",
    "july_water_level_data = water_level_data[water_level_data['Date'].dt.month == 7]\n",
    "\n",
    "# Calculate the average (baseline) water level for each gauge for July\n",
    "baseline_july_water_levels = july_water_level_data.groupby('ID')['Value'].mean().reset_index()\n",
    "baseline_july_water_levels.columns = ['ID', 'Baseline_July_Water_Level']\n",
    "\n",
    "# Display the result\n",
    "print(baseline_july_water_levels)"
   ]
  },
  {
   "cell_type": "markdown",
   "id": "e4ad1eba",
   "metadata": {},
   "source": [
    "Extracting the climate data"
   ]
  },
  {
   "cell_type": "code",
   "execution_count": 5,
   "id": "0d49777b",
   "metadata": {},
   "outputs": [
    {
     "name": "stdout",
     "output_type": "stream",
     "text": [
      "      x          y  STATION_NAME LOCAL_DATE  TOTAL_PRECIPITATION\n",
      "6 -79.4  43.666667  TORONTO CITY 2013-07-07                 38.5\n",
      "7 -79.4  43.666667  TORONTO CITY 2013-07-08                 96.8\n"
     ]
    }
   ],
   "source": [
    "# Load the data file\n",
    "climate_file = 'climate-daily.csv'\n",
    "climate_data = pd.read_csv(climate_file)\n",
    "\n",
    "# Convert 'LOCAL_DATE' to datetime format\n",
    "climate_data['LOCAL_DATE'] = pd.to_datetime(climate_data['LOCAL_DATE'], errors='coerce')\n",
    "\n",
    "# Filter for data from July 7th and 8th, 2013\n",
    "july_7_8_data = climate_data[(climate_data['LOCAL_DATE'] == '2013-07-07') | (climate_data['LOCAL_DATE'] == '2013-07-08')]\n",
    "\n",
    "# Select only the columns of interest: 'x', 'y', 'STATION_NAME', 'LOCAL_DATE', and 'TOTAL_PRECIPITATION'\n",
    "july_7_8_selected_columns = july_7_8_data[['x', 'y', 'STATION_NAME', 'LOCAL_DATE', 'TOTAL_PRECIPITATION']]\n",
    "\n",
    "# Display the filtered data\n",
    "print(july_7_8_selected_columns)\n"
   ]
  },
  {
   "cell_type": "markdown",
   "id": "e7d219f0-68a1-496a-9876-1300759be230",
   "metadata": {},
   "source": [
    "# 1. Data Cleaning and Preprocessing\n",
    "Let's clean the data and process it so we can make a great model. "
   ]
  },
  {
   "cell_type": "markdown",
   "id": "a3489316-4434-48d7-a107-2fbdd0a0925f",
   "metadata": {
    "jp-MarkdownHeadingCollapsed": true
   },
   "source": [
    "## 1.a First let's check for missing values"
   ]
  },
  {
   "cell_type": "code",
   "execution_count": null,
   "id": "9a6a3f12-790f-444d-ac68-7eda875325de",
   "metadata": {},
   "outputs": [],
   "source": []
  },
  {
   "cell_type": "markdown",
   "id": "48c2eef3-ac1d-434c-9617-1574d9e4e1e7",
   "metadata": {
    "jp-MarkdownHeadingCollapsed": true
   },
   "source": [
    "## 1.b Convert Units"
   ]
  },
  {
   "cell_type": "code",
   "execution_count": null,
   "id": "9ca5240b-38c1-4202-bab2-4d1df90c87b2",
   "metadata": {},
   "outputs": [],
   "source": []
  },
  {
   "cell_type": "markdown",
   "id": "a8310132-6412-4395-ba66-ed8979c57b9e",
   "metadata": {
    "jp-MarkdownHeadingCollapsed": true
   },
   "source": [
    "## 1.c Remove outliers"
   ]
  },
  {
   "cell_type": "code",
   "execution_count": null,
   "id": "bb710504-d977-4ceb-802d-5f1889de88e7",
   "metadata": {},
   "outputs": [],
   "source": []
  },
  {
   "cell_type": "markdown",
   "id": "c5dcd295-4eb5-4000-b016-968e84c6c2d8",
   "metadata": {
    "jp-MarkdownHeadingCollapsed": true
   },
   "source": [
    "## 1.d Remove duplicates"
   ]
  },
  {
   "cell_type": "code",
   "execution_count": null,
   "id": "db13d50a-b629-41cd-ae4f-a721c0238f8b",
   "metadata": {},
   "outputs": [],
   "source": []
  },
  {
   "cell_type": "markdown",
   "id": "f7b3a882-34fe-4241-b355-a3754ec3f850",
   "metadata": {
    "jp-MarkdownHeadingCollapsed": true
   },
   "source": [
    "# Data Cleaning Complete Function "
   ]
  },
  {
   "cell_type": "code",
   "execution_count": null,
   "id": "447f8be0-a085-484f-ae35-bd7a2434ec64",
   "metadata": {},
   "outputs": [],
   "source": []
  },
  {
   "cell_type": "markdown",
   "id": "72a1614f",
   "metadata": {
    "jp-MarkdownHeadingCollapsed": true
   },
   "source": [
    "# 2. Exploratory Data Analysis\n",
    "Next, let's explore the dataset. "
   ]
  },
  {
   "cell_type": "markdown",
   "id": "67b4e784-3969-454c-a6e3-e8fcc0e952c2",
   "metadata": {
    "jp-MarkdownHeadingCollapsed": true
   },
   "source": [
    "### 2.a Creation of temporal featurees for data analysis. "
   ]
  },
  {
   "cell_type": "code",
   "execution_count": null,
   "id": "a6c5ebc4-33d6-422c-b153-921f7d01c37a",
   "metadata": {
    "scrolled": true
   },
   "outputs": [],
   "source": []
  },
  {
   "cell_type": "markdown",
   "id": "e2b36f16",
   "metadata": {
    "jp-MarkdownHeadingCollapsed": true
   },
   "source": [
    "# 3. Feature Engineering\n",
    "Once we've acquired a comprehensive understanding of the dataset, we can proceed with feature engineering."
   ]
  },
  {
   "cell_type": "markdown",
   "id": "b77e931c-cec2-4150-9cd6-a866a7374327",
   "metadata": {
    "jp-MarkdownHeadingCollapsed": true
   },
   "source": [
    "### 3.a Time feature engineering"
   ]
  },
  {
   "cell_type": "code",
   "execution_count": 47,
   "id": "6f9d7eaf-6eb1-4ffc-a1de-9f9506b2a358",
   "metadata": {},
   "outputs": [],
   "source": []
  },
  {
   "cell_type": "markdown",
   "id": "9b2ec3d4-8b53-4fc8-a17f-5ddff0e0e565",
   "metadata": {
    "jp-MarkdownHeadingCollapsed": true
   },
   "source": [
    "### 3.b Location Feature Engineering\n"
   ]
  },
  {
   "cell_type": "code",
   "execution_count": 55,
   "id": "d7b949bb-7c87-4350-a5e9-de940dc0bec6",
   "metadata": {},
   "outputs": [],
   "source": []
  },
  {
   "cell_type": "markdown",
   "id": "e84dcaa6-2593-4ab9-a0f7-f656d8612463",
   "metadata": {
    "jp-MarkdownHeadingCollapsed": true
   },
   "source": [
    "### 3.c Weather Feature Engineering"
   ]
  },
  {
   "cell_type": "code",
   "execution_count": null,
   "id": "7e88f4b0-3369-4359-9978-594d685b4b71",
   "metadata": {},
   "outputs": [],
   "source": []
  },
  {
   "cell_type": "markdown",
   "id": "a4fca256-5576-4348-90a9-4faa29b2ff37",
   "metadata": {
    "jp-MarkdownHeadingCollapsed": true
   },
   "source": [
    "### 3.d Feature engineering comparison and evaluation"
   ]
  },
  {
   "cell_type": "code",
   "execution_count": null,
   "id": "14948e09-f5d7-412b-a9c5-26a63027f3cf",
   "metadata": {},
   "outputs": [],
   "source": []
  },
  {
   "cell_type": "markdown",
   "id": "af6e5795-8a50-472b-b6da-fec02516c78e",
   "metadata": {
    "jp-MarkdownHeadingCollapsed": true
   },
   "source": [
    "# Feature Engineering Complete Function"
   ]
  },
  {
   "cell_type": "code",
   "execution_count": null,
   "id": "c9c2ce95-e792-4534-97fa-ea22b3d629cf",
   "metadata": {},
   "outputs": [],
   "source": []
  },
  {
   "cell_type": "markdown",
   "id": "fc03dc91",
   "metadata": {},
   "source": [
    "# 4. Train The Model"
   ]
  },
  {
   "cell_type": "markdown",
   "id": "28d6d1a2-7958-4769-bf42-1cba3183cbb3",
   "metadata": {
    "jp-MarkdownHeadingCollapsed": true
   },
   "source": [
    "## 4.a Run code through pipeline"
   ]
  },
  {
   "cell_type": "code",
   "execution_count": null,
   "id": "c1d6c174-e1a3-42db-a530-e93fce14c4af",
   "metadata": {},
   "outputs": [],
   "source": [
    "FloodData = pd.read_csv('example.csv')\n",
    "train = CleanData(FloodData)\n",
    "X = feature_engineering(train)\n",
    "\n",
    "# Prepare the features and target variable\n",
    "X = X.drop(columns=['TargetColumn'])  # Drop target and non-features\n",
    "y = train['TargetColumn']  # Target variable\n",
    "X.info()\n",
    "\n",
    "# Split the data into training and test sets (80% train, 20% test)\n",
    "X_train, X_test, y_train, y_test = train_test_split(X, y, test_size=0.2, random_state=42)\n"
   ]
  },
  {
   "cell_type": "markdown",
   "id": "844d56af-0679-4525-8624-16d3e0a8127b",
   "metadata": {
    "jp-MarkdownHeadingCollapsed": true
   },
   "source": [
    "## 4.b Create & tune the model"
   ]
  },
  {
   "cell_type": "code",
   "execution_count": null,
   "id": "acfb6c05-2266-4c31-aae5-b625a36ddefd",
   "metadata": {},
   "outputs": [],
   "source": []
  },
  {
   "cell_type": "markdown",
   "id": "a1e99d54",
   "metadata": {
    "jp-MarkdownHeadingCollapsed": true
   },
   "source": [
    "## Evaluate Model\n",
    "Let's get the predictions on our validation dataset."
   ]
  },
  {
   "cell_type": "code",
   "execution_count": null,
   "id": "128c533d-95e4-411a-9dd5-38634b518b84",
   "metadata": {},
   "outputs": [],
   "source": [
    "# Evaluate the model's performance on the test data\n",
    "mae_best = mean_absolute_error(y_test, y_pred_best)\n",
    "mse_best = mean_squared_error(y_test, y_pred_best)\n",
    "rmse_best = np.sqrt(mse_best)  # RMSE\n",
    "r2_best = r2_score(y_test, y_pred_best)\n",
    "\n",
    "# Print evaluation metrics for the best model\n",
    "print(f\"Best Model MAE: {mae_best}\")\n",
    "print(f\"Best Model MSE: {mse_best}\")\n",
    "print(f\"Best Model RMSE: {rmse_best}\")\n",
    "print(f\"Best Model R^2: {r2_best}\")\n",
    "# Get feature importances from the best model\n",
    "feature_importance = best_rf_model.feature_importances_\n",
    "\n",
    "# Create a DataFrame for visualization\n",
    "feature_names = X.columns\n",
    "importance_df = pd.DataFrame({\n",
    "    'Feature': feature_names,\n",
    "    'Importance': feature_importance\n",
    "})\n",
    "\n",
    "# Sort the features by importance\n",
    "importance_df = importance_df.sort_values(by='Importance', ascending=False)\n",
    "\n",
    "# Plot the top 15 most important features\n",
    "plt.figure(figsize=(10, 6))\n",
    "sns.barplot(x='Importance', y='Feature', data=importance_df.head(15))\n",
    "plt.title('Top 15 Feature Importances')\n",
    "plt.tight_layout()\n",
    "plt.show()"
   ]
  },
  {
   "cell_type": "markdown",
   "id": "8470900f-aa07-4bc8-8b73-d4fbf0d49ffb",
   "metadata": {
    "jp-MarkdownHeadingCollapsed": true
   },
   "source": [
    "# Predict on the test dataset"
   ]
  },
  {
   "cell_type": "code",
   "execution_count": null,
   "id": "259c390b-65a9-4e89-8fca-16d90b45598a",
   "metadata": {},
   "outputs": [],
   "source": []
  }
 ],
 "metadata": {
  "kernelspec": {
   "display_name": "base",
   "language": "python",
   "name": "python3"
  },
  "language_info": {
   "codemirror_mode": {
    "name": "ipython",
    "version": 3
   },
   "file_extension": ".py",
   "mimetype": "text/x-python",
   "name": "python",
   "nbconvert_exporter": "python",
   "pygments_lexer": "ipython3",
   "version": "3.12.4"
  }
 },
 "nbformat": 4,
 "nbformat_minor": 5
}
