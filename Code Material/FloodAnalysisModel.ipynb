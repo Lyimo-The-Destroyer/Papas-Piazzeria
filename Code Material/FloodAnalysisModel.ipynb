{
 "cells": [
  {
   "cell_type": "markdown",
   "id": "0380322b",
   "metadata": {
    "jp-MarkdownHeadingCollapsed": true
   },
   "source": [
    "# THE BIG PROJECT\n",
    "## Papas-Piazzeria\n",
    "### Flood Data Investigation Model\n",
    "\n",
    "Maya Chai-Foo 1006946405,\n",
    "Aaron Lyimo 1007483108,\n",
    "Daniel Rivera Naraez 1007790455,\n",
    "Aziz Yussupov 1007252759,"
   ]
  },
  {
   "cell_type": "code",
   "execution_count": 16,
   "id": "cbc970f4-d141-467d-93d5-036d8ba70130",
   "metadata": {},
   "outputs": [],
   "source": [
    "import numpy as np\n",
    "import pandas as pd\n",
    "import seaborn as sns\n",
    "import geopandas as gpd\n",
    "import matplotlib.pylab as plt\n",
    "import matplotlib.pyplot as plt\n",
    "\n",
    "# Configure Notebook\n",
    "%matplotlib inline\n",
    "plt.style.use('fivethirtyeight')\n",
    "sns.set_context(\"notebook\")\n",
    "import warnings\n",
    "warnings.filterwarnings('ignore')"
   ]
  },
  {
   "cell_type": "markdown",
   "id": "6008bf2e",
   "metadata": {
    "jp-MarkdownHeadingCollapsed": true
   },
   "source": [
    "## 0. Import Data\n",
    "Let's start by importing the data. we will look at the information of the table for inspection. "
   ]
  },
  {
   "cell_type": "markdown",
   "id": "94d2bf49",
   "metadata": {},
   "source": [
    "Webscraping neighbourhood income data"
   ]
  },
  {
   "cell_type": "code",
   "execution_count": 2,
   "id": "6b7a7ffb-ef6f-472c-b5bb-5f749e0bd1ab",
   "metadata": {},
   "outputs": [
    {
     "data": {
      "text/html": [
       "<div>\n",
       "<style scoped>\n",
       "    .dataframe tbody tr th:only-of-type {\n",
       "        vertical-align: middle;\n",
       "    }\n",
       "\n",
       "    .dataframe tbody tr th {\n",
       "        vertical-align: top;\n",
       "    }\n",
       "\n",
       "    .dataframe thead th {\n",
       "        text-align: right;\n",
       "    }\n",
       "</style>\n",
       "<table border=\"1\" class=\"dataframe\">\n",
       "  <thead>\n",
       "    <tr style=\"text-align: right;\">\n",
       "      <th></th>\n",
       "      <th>Neighbourhood</th>\n",
       "      <th>Median Income Before Tax</th>\n",
       "    </tr>\n",
       "  </thead>\n",
       "  <tbody>\n",
       "    <tr>\n",
       "      <th>0</th>\n",
       "      <td>Toronto</td>\n",
       "      <td>97000</td>\n",
       "    </tr>\n",
       "    <tr>\n",
       "      <th>1</th>\n",
       "      <td>Agincourt North</td>\n",
       "      <td>89000</td>\n",
       "    </tr>\n",
       "    <tr>\n",
       "      <th>2</th>\n",
       "      <td>Agincourt South-Malvern West</td>\n",
       "      <td>89000</td>\n",
       "    </tr>\n",
       "    <tr>\n",
       "      <th>3</th>\n",
       "      <td>Malvern East</td>\n",
       "      <td>89000</td>\n",
       "    </tr>\n",
       "    <tr>\n",
       "      <th>4</th>\n",
       "      <td>Malvern West</td>\n",
       "      <td>89000</td>\n",
       "    </tr>\n",
       "  </tbody>\n",
       "</table>\n",
       "</div>"
      ],
      "text/plain": [
       "                  Neighbourhood  Median Income Before Tax\n",
       "0                       Toronto                     97000\n",
       "1               Agincourt North                     89000\n",
       "2  Agincourt South-Malvern West                     89000\n",
       "3                  Malvern East                     89000\n",
       "4                  Malvern West                     89000"
      ]
     },
     "execution_count": 2,
     "metadata": {},
     "output_type": "execute_result"
    }
   ],
   "source": [
    "# Load the data file\n",
    "income_file_path = 'median_income_by_neighbourhood.csv'\n",
    "income_data = pd.read_csv(income_file_path)\n",
    "income_data.head()"
   ]
  },
  {
   "cell_type": "markdown",
   "id": "bf674644",
   "metadata": {},
   "source": [
    "Finding the water levels at black creek and don river for flooding event of interest (july 8th 2013)"
   ]
  },
  {
   "cell_type": "code",
   "execution_count": 3,
   "id": "2c31fdf2",
   "metadata": {},
   "outputs": [
    {
     "name": "stdout",
     "output_type": "stream",
     "text": [
      "            ID       Date   Value\n",
      "25207  02HC027 2013-07-08   1.426\n",
      "55249  02HC024 2013-07-08  13.026\n"
     ]
    }
   ],
   "source": [
    "import pandas as pd\n",
    "\n",
    "# Load the data file\n",
    "file_name = 'flow data.csv'\n",
    "data = pd.read_csv(file_name, header=None, skiprows=1)\n",
    "\n",
    "# Assign column names\n",
    "data.columns = ['ID', 'PARAM', 'Date', 'Value', 'SYM']\n",
    "\n",
    "# Convert 'Date' to datetime format and filter 'PARAM' column for valid values\n",
    "data['Date'] = pd.to_datetime(data['Date'], errors='coerce')\n",
    "data = data[data['PARAM'].isin(['1', '2'])].copy()\n",
    "data['PARAM'] = data['PARAM'].astype(int)\n",
    "\n",
    "# Filter for July 8, 2013, and parameter 2 (level data)\n",
    "july_8_2013_level_data = data[(data['PARAM'] == 2) & (data['Date'] == '2013-07-08')]\n",
    "\n",
    "july_8_2013_level_data = july_8_2013_level_data [['ID','Date','Value']]\n",
    "\n",
    "# Display the filtered data\n",
    "print(july_8_2013_level_data)\n"
   ]
  },
  {
   "cell_type": "code",
   "execution_count": 4,
   "id": "e36c92db",
   "metadata": {},
   "outputs": [
    {
     "data": {
      "text/html": [
       "<div>\n",
       "<style scoped>\n",
       "    .dataframe tbody tr th:only-of-type {\n",
       "        vertical-align: middle;\n",
       "    }\n",
       "\n",
       "    .dataframe tbody tr th {\n",
       "        vertical-align: top;\n",
       "    }\n",
       "\n",
       "    .dataframe thead th {\n",
       "        text-align: right;\n",
       "    }\n",
       "</style>\n",
       "<table border=\"1\" class=\"dataframe\">\n",
       "  <thead>\n",
       "    <tr style=\"text-align: right;\">\n",
       "      <th></th>\n",
       "      <th>PARAM</th>\n",
       "      <th>Date</th>\n",
       "    </tr>\n",
       "  </thead>\n",
       "  <tbody>\n",
       "    <tr>\n",
       "      <th>count</th>\n",
       "      <td>58712.000000</td>\n",
       "      <td>58712</td>\n",
       "    </tr>\n",
       "    <tr>\n",
       "      <th>mean</th>\n",
       "      <td>1.267492</td>\n",
       "      <td>1999-01-16 03:17:17.471044992</td>\n",
       "    </tr>\n",
       "    <tr>\n",
       "      <th>min</th>\n",
       "      <td>1.000000</td>\n",
       "      <td>1962-10-01 00:00:00</td>\n",
       "    </tr>\n",
       "    <tr>\n",
       "      <th>25%</th>\n",
       "      <td>1.000000</td>\n",
       "      <td>1984-09-19 18:00:00</td>\n",
       "    </tr>\n",
       "    <tr>\n",
       "      <th>50%</th>\n",
       "      <td>1.000000</td>\n",
       "      <td>2003-05-29 00:00:00</td>\n",
       "    </tr>\n",
       "    <tr>\n",
       "      <th>75%</th>\n",
       "      <td>2.000000</td>\n",
       "      <td>2013-06-14 06:00:00</td>\n",
       "    </tr>\n",
       "    <tr>\n",
       "      <th>max</th>\n",
       "      <td>2.000000</td>\n",
       "      <td>2023-12-31 00:00:00</td>\n",
       "    </tr>\n",
       "    <tr>\n",
       "      <th>std</th>\n",
       "      <td>0.442655</td>\n",
       "      <td>NaN</td>\n",
       "    </tr>\n",
       "  </tbody>\n",
       "</table>\n",
       "</div>"
      ],
      "text/plain": [
       "              PARAM                           Date\n",
       "count  58712.000000                          58712\n",
       "mean       1.267492  1999-01-16 03:17:17.471044992\n",
       "min        1.000000            1962-10-01 00:00:00\n",
       "25%        1.000000            1984-09-19 18:00:00\n",
       "50%        1.000000            2003-05-29 00:00:00\n",
       "75%        2.000000            2013-06-14 06:00:00\n",
       "max        2.000000            2023-12-31 00:00:00\n",
       "std        0.442655                            NaN"
      ]
     },
     "execution_count": 4,
     "metadata": {},
     "output_type": "execute_result"
    }
   ],
   "source": [
    "data.describe()"
   ]
  },
  {
   "cell_type": "code",
   "execution_count": 5,
   "id": "eef79f32",
   "metadata": {},
   "outputs": [
    {
     "data": {
      "text/html": [
       "<div>\n",
       "<style scoped>\n",
       "    .dataframe tbody tr th:only-of-type {\n",
       "        vertical-align: middle;\n",
       "    }\n",
       "\n",
       "    .dataframe tbody tr th {\n",
       "        vertical-align: top;\n",
       "    }\n",
       "\n",
       "    .dataframe thead th {\n",
       "        text-align: right;\n",
       "    }\n",
       "</style>\n",
       "<table border=\"1\" class=\"dataframe\">\n",
       "  <thead>\n",
       "    <tr style=\"text-align: right;\">\n",
       "      <th></th>\n",
       "      <th>ID</th>\n",
       "      <th>PARAM</th>\n",
       "      <th>Date</th>\n",
       "      <th>Value</th>\n",
       "      <th>SYM</th>\n",
       "    </tr>\n",
       "  </thead>\n",
       "  <tbody>\n",
       "    <tr>\n",
       "      <th>1</th>\n",
       "      <td>02HC027</td>\n",
       "      <td>1</td>\n",
       "      <td>1966-07-04</td>\n",
       "      <td>0.357</td>\n",
       "      <td>NaN</td>\n",
       "    </tr>\n",
       "    <tr>\n",
       "      <th>2</th>\n",
       "      <td>02HC027</td>\n",
       "      <td>1</td>\n",
       "      <td>1966-07-05</td>\n",
       "      <td>0.249</td>\n",
       "      <td>NaN</td>\n",
       "    </tr>\n",
       "    <tr>\n",
       "      <th>3</th>\n",
       "      <td>02HC027</td>\n",
       "      <td>1</td>\n",
       "      <td>1966-07-06</td>\n",
       "      <td>0.275</td>\n",
       "      <td>NaN</td>\n",
       "    </tr>\n",
       "    <tr>\n",
       "      <th>4</th>\n",
       "      <td>02HC027</td>\n",
       "      <td>1</td>\n",
       "      <td>1966-07-07</td>\n",
       "      <td>0.337</td>\n",
       "      <td>NaN</td>\n",
       "    </tr>\n",
       "    <tr>\n",
       "      <th>5</th>\n",
       "      <td>02HC027</td>\n",
       "      <td>1</td>\n",
       "      <td>1966-07-08</td>\n",
       "      <td>0.252</td>\n",
       "      <td>NaN</td>\n",
       "    </tr>\n",
       "  </tbody>\n",
       "</table>\n",
       "</div>"
      ],
      "text/plain": [
       "        ID  PARAM       Date  Value  SYM\n",
       "1  02HC027      1 1966-07-04  0.357  NaN\n",
       "2  02HC027      1 1966-07-05  0.249  NaN\n",
       "3  02HC027      1 1966-07-06  0.275  NaN\n",
       "4  02HC027      1 1966-07-07  0.337  NaN\n",
       "5  02HC027      1 1966-07-08  0.252  NaN"
      ]
     },
     "execution_count": 5,
     "metadata": {},
     "output_type": "execute_result"
    }
   ],
   "source": [
    "data.head()"
   ]
  },
  {
   "cell_type": "code",
   "execution_count": null,
   "id": "626a32bd",
   "metadata": {},
   "outputs": [],
   "source": []
  },
  {
   "cell_type": "markdown",
   "id": "938fc1f2",
   "metadata": {},
   "source": [
    "Finding the baseline water levels for these rivers"
   ]
  },
  {
   "cell_type": "code",
   "execution_count": 6,
   "id": "6a269734",
   "metadata": {},
   "outputs": [
    {
     "name": "stdout",
     "output_type": "stream",
     "text": [
      "        ID  Baseline_July_Water_Level\n",
      "0  02HC024                  12.195959\n",
      "1  02HC027                   0.381672\n"
     ]
    }
   ],
   "source": [
    "# Filter only for PARAM = 2 (water level data) and convert 'Value' to numeric\n",
    "water_level_data = data[data['PARAM'] == 2]\n",
    "water_level_data['Value'] = pd.to_numeric(water_level_data['Value'], errors='coerce')\n",
    "\n",
    "# Filter data for July across all years\n",
    "july_water_level_data = water_level_data[water_level_data['Date'].dt.month == 7]\n",
    "\n",
    "# Calculate the average (baseline) water level for each gauge for July\n",
    "baseline_july_water_levels = july_water_level_data.groupby('ID')['Value'].mean().reset_index()\n",
    "baseline_july_water_levels.columns = ['ID', 'Baseline_July_Water_Level']\n",
    "\n",
    "# Display the result\n",
    "print(baseline_july_water_levels)"
   ]
  },
  {
   "cell_type": "markdown",
   "id": "e4ad1eba",
   "metadata": {},
   "source": [
    "Extracting the climate data"
   ]
  },
  {
   "cell_type": "code",
   "execution_count": 7,
   "id": "0d49777b",
   "metadata": {},
   "outputs": [
    {
     "name": "stdout",
     "output_type": "stream",
     "text": [
      "      x          y  STATION_NAME LOCAL_DATE  TOTAL_PRECIPITATION\n",
      "6 -79.4  43.666667  TORONTO CITY 2013-07-07                 38.5\n",
      "7 -79.4  43.666667  TORONTO CITY 2013-07-08                 96.8\n"
     ]
    },
    {
     "data": {
      "text/html": [
       "<div>\n",
       "<style scoped>\n",
       "    .dataframe tbody tr th:only-of-type {\n",
       "        vertical-align: middle;\n",
       "    }\n",
       "\n",
       "    .dataframe tbody tr th {\n",
       "        vertical-align: top;\n",
       "    }\n",
       "\n",
       "    .dataframe thead th {\n",
       "        text-align: right;\n",
       "    }\n",
       "</style>\n",
       "<table border=\"1\" class=\"dataframe\">\n",
       "  <thead>\n",
       "    <tr style=\"text-align: right;\">\n",
       "      <th></th>\n",
       "      <th>x</th>\n",
       "      <th>y</th>\n",
       "      <th>MAX_REL_HUMIDITY</th>\n",
       "      <th>MIN_REL_HUMIDITY_FLAG</th>\n",
       "      <th>MEAN_TEMPERATURE</th>\n",
       "      <th>SNOW_ON_GROUND</th>\n",
       "      <th>MAX_TEMPERATURE</th>\n",
       "      <th>TOTAL_PRECIPITATION_FLAG</th>\n",
       "      <th>TOTAL_SNOW_FLAG</th>\n",
       "      <th>MIN_REL_HUMIDITY</th>\n",
       "      <th>...</th>\n",
       "      <th>HEATING_DEGREE_DAYS</th>\n",
       "      <th>MAX_TEMPERATURE_FLAG</th>\n",
       "      <th>MIN_TEMPERATURE</th>\n",
       "      <th>TOTAL_RAIN</th>\n",
       "      <th>CLIMATE_IDENTIFIER</th>\n",
       "      <th>TOTAL_RAIN_FLAG</th>\n",
       "      <th>COOLING_DEGREE_DAYS</th>\n",
       "      <th>MAX_REL_HUMIDITY_FLAG</th>\n",
       "      <th>MIN_TEMPERATURE_FLAG</th>\n",
       "      <th>PROVINCE_CODE</th>\n",
       "    </tr>\n",
       "  </thead>\n",
       "  <tbody>\n",
       "    <tr>\n",
       "      <th>0</th>\n",
       "      <td>-79.4</td>\n",
       "      <td>43.666667</td>\n",
       "      <td>56.0</td>\n",
       "      <td>NaN</td>\n",
       "      <td>21.1</td>\n",
       "      <td>NaN</td>\n",
       "      <td>24.1</td>\n",
       "      <td>NaN</td>\n",
       "      <td>M</td>\n",
       "      <td>41.0</td>\n",
       "      <td>...</td>\n",
       "      <td>0.0</td>\n",
       "      <td>NaN</td>\n",
       "      <td>18.1</td>\n",
       "      <td>NaN</td>\n",
       "      <td>6158355</td>\n",
       "      <td>M</td>\n",
       "      <td>3.1</td>\n",
       "      <td>NaN</td>\n",
       "      <td>NaN</td>\n",
       "      <td>ON</td>\n",
       "    </tr>\n",
       "    <tr>\n",
       "      <th>1</th>\n",
       "      <td>-79.4</td>\n",
       "      <td>43.666667</td>\n",
       "      <td>84.0</td>\n",
       "      <td>NaN</td>\n",
       "      <td>19.8</td>\n",
       "      <td>NaN</td>\n",
       "      <td>22.1</td>\n",
       "      <td>NaN</td>\n",
       "      <td>M</td>\n",
       "      <td>56.0</td>\n",
       "      <td>...</td>\n",
       "      <td>0.0</td>\n",
       "      <td>NaN</td>\n",
       "      <td>17.5</td>\n",
       "      <td>NaN</td>\n",
       "      <td>6158355</td>\n",
       "      <td>M</td>\n",
       "      <td>1.8</td>\n",
       "      <td>NaN</td>\n",
       "      <td>NaN</td>\n",
       "      <td>ON</td>\n",
       "    </tr>\n",
       "    <tr>\n",
       "      <th>2</th>\n",
       "      <td>-79.4</td>\n",
       "      <td>43.666667</td>\n",
       "      <td>NaN</td>\n",
       "      <td>NaN</td>\n",
       "      <td>NaN</td>\n",
       "      <td>NaN</td>\n",
       "      <td>NaN</td>\n",
       "      <td>NaN</td>\n",
       "      <td>M</td>\n",
       "      <td>NaN</td>\n",
       "      <td>...</td>\n",
       "      <td>NaN</td>\n",
       "      <td>M</td>\n",
       "      <td>18.5</td>\n",
       "      <td>NaN</td>\n",
       "      <td>6158355</td>\n",
       "      <td>M</td>\n",
       "      <td>NaN</td>\n",
       "      <td>NaN</td>\n",
       "      <td>E</td>\n",
       "      <td>ON</td>\n",
       "    </tr>\n",
       "    <tr>\n",
       "      <th>3</th>\n",
       "      <td>-79.4</td>\n",
       "      <td>43.666667</td>\n",
       "      <td>94.0</td>\n",
       "      <td>NaN</td>\n",
       "      <td>23.7</td>\n",
       "      <td>NaN</td>\n",
       "      <td>27.0</td>\n",
       "      <td>NaN</td>\n",
       "      <td>M</td>\n",
       "      <td>66.0</td>\n",
       "      <td>...</td>\n",
       "      <td>0.0</td>\n",
       "      <td>NaN</td>\n",
       "      <td>20.4</td>\n",
       "      <td>NaN</td>\n",
       "      <td>6158355</td>\n",
       "      <td>M</td>\n",
       "      <td>5.7</td>\n",
       "      <td>NaN</td>\n",
       "      <td>NaN</td>\n",
       "      <td>ON</td>\n",
       "    </tr>\n",
       "    <tr>\n",
       "      <th>4</th>\n",
       "      <td>-79.4</td>\n",
       "      <td>43.666667</td>\n",
       "      <td>95.0</td>\n",
       "      <td>NaN</td>\n",
       "      <td>22.7</td>\n",
       "      <td>NaN</td>\n",
       "      <td>25.0</td>\n",
       "      <td>NaN</td>\n",
       "      <td>M</td>\n",
       "      <td>79.0</td>\n",
       "      <td>...</td>\n",
       "      <td>0.0</td>\n",
       "      <td>NaN</td>\n",
       "      <td>20.4</td>\n",
       "      <td>NaN</td>\n",
       "      <td>6158355</td>\n",
       "      <td>M</td>\n",
       "      <td>4.7</td>\n",
       "      <td>NaN</td>\n",
       "      <td>NaN</td>\n",
       "      <td>ON</td>\n",
       "    </tr>\n",
       "  </tbody>\n",
       "</table>\n",
       "<p>5 rows × 36 columns</p>\n",
       "</div>"
      ],
      "text/plain": [
       "      x          y  MAX_REL_HUMIDITY  MIN_REL_HUMIDITY_FLAG  MEAN_TEMPERATURE  \\\n",
       "0 -79.4  43.666667              56.0                    NaN              21.1   \n",
       "1 -79.4  43.666667              84.0                    NaN              19.8   \n",
       "2 -79.4  43.666667               NaN                    NaN               NaN   \n",
       "3 -79.4  43.666667              94.0                    NaN              23.7   \n",
       "4 -79.4  43.666667              95.0                    NaN              22.7   \n",
       "\n",
       "   SNOW_ON_GROUND  MAX_TEMPERATURE  TOTAL_PRECIPITATION_FLAG TOTAL_SNOW_FLAG  \\\n",
       "0             NaN             24.1                       NaN               M   \n",
       "1             NaN             22.1                       NaN               M   \n",
       "2             NaN              NaN                       NaN               M   \n",
       "3             NaN             27.0                       NaN               M   \n",
       "4             NaN             25.0                       NaN               M   \n",
       "\n",
       "   MIN_REL_HUMIDITY  ...  HEATING_DEGREE_DAYS MAX_TEMPERATURE_FLAG  \\\n",
       "0              41.0  ...                  0.0                  NaN   \n",
       "1              56.0  ...                  0.0                  NaN   \n",
       "2               NaN  ...                  NaN                    M   \n",
       "3              66.0  ...                  0.0                  NaN   \n",
       "4              79.0  ...                  0.0                  NaN   \n",
       "\n",
       "  MIN_TEMPERATURE  TOTAL_RAIN CLIMATE_IDENTIFIER TOTAL_RAIN_FLAG  \\\n",
       "0            18.1         NaN            6158355               M   \n",
       "1            17.5         NaN            6158355               M   \n",
       "2            18.5         NaN            6158355               M   \n",
       "3            20.4         NaN            6158355               M   \n",
       "4            20.4         NaN            6158355               M   \n",
       "\n",
       "  COOLING_DEGREE_DAYS  MAX_REL_HUMIDITY_FLAG  MIN_TEMPERATURE_FLAG  \\\n",
       "0                 3.1                    NaN                   NaN   \n",
       "1                 1.8                    NaN                   NaN   \n",
       "2                 NaN                    NaN                     E   \n",
       "3                 5.7                    NaN                   NaN   \n",
       "4                 4.7                    NaN                   NaN   \n",
       "\n",
       "  PROVINCE_CODE  \n",
       "0            ON  \n",
       "1            ON  \n",
       "2            ON  \n",
       "3            ON  \n",
       "4            ON  \n",
       "\n",
       "[5 rows x 36 columns]"
      ]
     },
     "execution_count": 7,
     "metadata": {},
     "output_type": "execute_result"
    }
   ],
   "source": [
    "# Load the data file\n",
    "climate_file = 'climate-daily.csv'\n",
    "climate_data = pd.read_csv(climate_file)\n",
    "\n",
    "# Convert 'LOCAL_DATE' to datetime format\n",
    "climate_data['LOCAL_DATE'] = pd.to_datetime(climate_data['LOCAL_DATE'], errors='coerce')\n",
    "\n",
    "# Filter for data from July 7th and 8th, 2013\n",
    "july_7_8_data = climate_data[(climate_data['LOCAL_DATE'] == '2013-07-07') | (climate_data['LOCAL_DATE'] == '2013-07-08')]\n",
    "\n",
    "# Select only the columns of interest: 'x', 'y', 'STATION_NAME', 'LOCAL_DATE', and 'TOTAL_PRECIPITATION'\n",
    "july_7_8_selected_columns = july_7_8_data[['x', 'y', 'STATION_NAME', 'LOCAL_DATE', 'TOTAL_PRECIPITATION']]\n",
    "\n",
    "# Display the filtered data\n",
    "print(july_7_8_selected_columns)\n",
    "\n",
    "climate_data.head()"
   ]
  },
  {
   "cell_type": "markdown",
   "id": "e7d219f0-68a1-496a-9876-1300759be230",
   "metadata": {},
   "source": [
    "# 1. Data Cleaning and Preprocessing\n",
    "Let's clean the data and process it so we can make a great model. "
   ]
  },
  {
   "cell_type": "markdown",
   "id": "a3489316-4434-48d7-a107-2fbdd0a0925f",
   "metadata": {
    "jp-MarkdownHeadingCollapsed": true
   },
   "source": [
    "## 1.a First let's check for missing values"
   ]
  },
  {
   "cell_type": "code",
   "execution_count": 8,
   "id": "9a6a3f12-790f-444d-ac68-7eda875325de",
   "metadata": {},
   "outputs": [
    {
     "name": "stdout",
     "output_type": "stream",
     "text": [
      "Neighbourhood               0\n",
      "Median Income Before Tax    0\n",
      "dtype: int64\n"
     ]
    }
   ],
   "source": [
    "missing_counts = income_data.isnull().sum()\n",
    "print(missing_counts)\n"
   ]
  },
  {
   "cell_type": "markdown",
   "id": "c2d7ebcf",
   "metadata": {},
   "source": [
    "Looks like there are no missing values. "
   ]
  },
  {
   "cell_type": "code",
   "execution_count": 9,
   "id": "34426bf4",
   "metadata": {},
   "outputs": [
    {
     "data": {
      "text/html": [
       "<div>\n",
       "<style scoped>\n",
       "    .dataframe tbody tr th:only-of-type {\n",
       "        vertical-align: middle;\n",
       "    }\n",
       "\n",
       "    .dataframe tbody tr th {\n",
       "        vertical-align: top;\n",
       "    }\n",
       "\n",
       "    .dataframe thead th {\n",
       "        text-align: right;\n",
       "    }\n",
       "</style>\n",
       "<table border=\"1\" class=\"dataframe\">\n",
       "  <thead>\n",
       "    <tr style=\"text-align: right;\">\n",
       "      <th></th>\n",
       "      <th>Median Income Before Tax</th>\n",
       "    </tr>\n",
       "  </thead>\n",
       "  <tbody>\n",
       "    <tr>\n",
       "      <th>count</th>\n",
       "      <td>146.000000</td>\n",
       "    </tr>\n",
       "    <tr>\n",
       "      <th>mean</th>\n",
       "      <td>87932.876712</td>\n",
       "    </tr>\n",
       "    <tr>\n",
       "      <th>std</th>\n",
       "      <td>20457.731393</td>\n",
       "    </tr>\n",
       "    <tr>\n",
       "      <th>min</th>\n",
       "      <td>59200.000000</td>\n",
       "    </tr>\n",
       "    <tr>\n",
       "      <th>25%</th>\n",
       "      <td>77000.000000</td>\n",
       "    </tr>\n",
       "    <tr>\n",
       "      <th>50%</th>\n",
       "      <td>84000.000000</td>\n",
       "    </tr>\n",
       "    <tr>\n",
       "      <th>75%</th>\n",
       "      <td>92000.000000</td>\n",
       "    </tr>\n",
       "    <tr>\n",
       "      <th>max</th>\n",
       "      <td>184000.000000</td>\n",
       "    </tr>\n",
       "  </tbody>\n",
       "</table>\n",
       "</div>"
      ],
      "text/plain": [
       "       Median Income Before Tax\n",
       "count                146.000000\n",
       "mean               87932.876712\n",
       "std                20457.731393\n",
       "min                59200.000000\n",
       "25%                77000.000000\n",
       "50%                84000.000000\n",
       "75%                92000.000000\n",
       "max               184000.000000"
      ]
     },
     "execution_count": 9,
     "metadata": {},
     "output_type": "execute_result"
    }
   ],
   "source": [
    "income_data.describe()"
   ]
  },
  {
   "cell_type": "markdown",
   "id": "74392904",
   "metadata": {},
   "source": [
    "The range of income listed appears to be reasonable, showing thath there are no outlisers imideately appparent. "
   ]
  },
  {
   "cell_type": "markdown",
   "id": "f7b3a882-34fe-4241-b355-a3754ec3f850",
   "metadata": {
    "jp-MarkdownHeadingCollapsed": true
   },
   "source": [
    "# Data Cleaning Complete Function "
   ]
  },
  {
   "cell_type": "code",
   "execution_count": null,
   "id": "447f8be0-a085-484f-ae35-bd7a2434ec64",
   "metadata": {},
   "outputs": [],
   "source": []
  },
  {
   "cell_type": "markdown",
   "id": "72a1614f",
   "metadata": {
    "jp-MarkdownHeadingCollapsed": true
   },
   "source": [
    "# 2. Exploratory Data Analysis\n",
    "Next, let's explore the dataset. "
   ]
  },
  {
   "cell_type": "code",
   "execution_count": 10,
   "id": "82c4e5f7",
   "metadata": {},
   "outputs": [
    {
     "name": "stdout",
     "output_type": "stream",
     "text": [
      "['Toronto' 'Agincourt North' 'Agincourt South-Malvern West' 'Malvern East'\n",
      " 'Malvern West' 'Alderwood' 'Banbury-Don Mills' 'York Mills'\n",
      " 'Bathurst Manor' 'Bay-Cloverhill' 'Yonge-Bay Corridor' 'Bayview Village'\n",
      " 'Bayview Woods-Steeles' 'Hillcrest Village' 'Bedford Park-Nortown'\n",
      " 'Beechborough-Greenbrook' 'Bendale South' 'Bendale-Glen Andrew'\n",
      " 'Birchcliffe-Cliffside' 'Black Creek' 'Briar Hill-Belgravia'\n",
      " 'Broadview North' 'Brookhaven-Amesbury'\n",
      " 'Cabbagetown-South St. James Town' 'Caledonia-Fairbank' 'Casa Loma'\n",
      " 'Church-Wellesley' 'Downtown Yonge East' 'Clairlea-Birchmount'\n",
      " 'Clanton Park' 'Cliffcrest' 'Danforth Village-East York'\n",
      " 'Don Valley Village' 'Pleasant View' 'Dorset Park' 'Dovercourt Village'\n",
      " 'Junction-Wallace Emerson' 'Junction' 'Downsview'\n",
      " 'Oakdale-Beverly Heights' 'Dufferin Grove' 'Little Portugal'\n",
      " 'East End-Danforth' 'Edenbridge-Humber Valley' 'Eglinton East'\n",
      " 'Elms-Old Rexdale' 'Englemount-Lawrence' 'Eringate-Centennial-West Deane'\n",
      " 'Etobicoke West Mall' 'Flemingdon Park' 'Forest Hill North'\n",
      " 'Forest Hill South' 'Guildwood' 'Henry Farm' 'High Park North'\n",
      " 'High Park-Swansea' 'Humber Heights-Westmount' 'Humewood-Cedarvale'\n",
      " 'Ionview' 'Islington' 'Keelesdale-Eglinton West' 'Kennedy Park'\n",
      " 'Kensington-Chinatown' 'Kingsview Village-The Westway' 'Kingsway South'\n",
      " 'Lambton Baby Point' \"East L'Amoreaux\" \"West L'Amoreaux\" 'Steeles'\n",
      " 'Milliken' 'Lansing-Westgate' 'Lawrence Park North' 'Lawrence Park South'\n",
      " 'Leaside-Bennington' 'Little Italy' 'Trinity-Bellwoods' 'Long Branch'\n",
      " 'Maple Leaf' 'Humber Bay Shores' 'Mimico-Queensway' 'Morningside Heights'\n",
      " 'Moss Park' 'Regent Park' 'Mount Dennis'\n",
      " 'Mount Olive-Silverstone-Jamestown' 'Thistletown' 'Mount Pleasant East'\n",
      " 'North Toronto' 'South Eglinton-Davisville' 'New Toronto'\n",
      " 'North St. James Town' 'Oakridge' 'Oakwood-Vaughan' \"O'Connor-Parkview\"\n",
      " 'Old East York' 'Fenside-Parkwoods' \"Parkwoods-O'Connor Hills\"\n",
      " 'Playter Estates-Danforth' 'Princess-Rosethorn' 'Rexdale-Kipling'\n",
      " 'North Riverdale' 'South Riverdale' 'Rockcliffe-Smythe' 'Roncesvalles'\n",
      " 'Rosedale' 'Morningside' 'Rouge' 'Rustic' 'Pelmo Park' 'Humberlea'\n",
      " 'Scarborough Village' 'South Parkdale' 'St. Andrew-Windfields'\n",
      " 'Stonegate-Queensway' \"Tam O'Shanter-Sullivan\" 'The Beaches'\n",
      " 'Thorncliffe Park' 'University' 'Annex' 'Victoria Village'\n",
      " 'Harbourfront-CityPlace' 'St Lawrence-East Bayfront The Islands'\n",
      " 'Wellington Place' 'West Hill' 'West Humber-Clairville'\n",
      " 'Westminster-Branson' 'Weston' 'Weston-Pelham Park' 'Wexford-Maryvale'\n",
      " 'Avondale' 'Willowdale East' 'Yonge-Doris' 'Newtonbrook East'\n",
      " 'Willowdale West' 'Newtonbrook West' 'Willowridge-Martingrove-Richview'\n",
      " 'Golfdale-Cedarbrae-Woburn' 'Woburn North' 'Woodbine Corridor'\n",
      " 'Greenwood-Coxwell' 'Woodbine-Lumsden' 'Wychwood' 'Yonge-Eglinton'\n",
      " 'Yonge-St. Clair']\n"
     ]
    }
   ],
   "source": [
    "unique_values = income_data['Neighbourhood'].unique()\n",
    "print(unique_values)"
   ]
  },
  {
   "cell_type": "code",
   "execution_count": 11,
   "id": "a6c5ebc4-33d6-422c-b153-921f7d01c37a",
   "metadata": {
    "scrolled": true
   },
   "outputs": [
    {
     "name": "stdout",
     "output_type": "stream",
     "text": [
      "Toronto: Central Toronto\n",
      "Agincourt North: Scarborough\n",
      "Agincourt South-Malvern West: Scarborough\n",
      "Malvern East: Scarborough\n",
      "Malvern West: Scarborough\n",
      "Alderwood: Etobicoke\n",
      "Banbury-Don Mills: Uncategorized\n",
      "York Mills: North York\n",
      "Bathurst Manor: North York\n",
      "Bay-Cloverhill: North York\n",
      "Yonge-Bay Corridor: Central Toronto\n",
      "Bayview Village: Central Toronto\n",
      "Bayview Woods-Steeles: North York\n",
      "Hillcrest Village: Uncategorized\n",
      "Bedford Park-Nortown: North York\n",
      "Beechborough-Greenbrook: Uncategorized\n",
      "Bendale South: Scarborough\n",
      "Bendale-Glen Andrew: Scarborough\n",
      "Birchcliffe-Cliffside: Scarborough\n",
      "Black Creek: Uncategorized\n",
      "Briar Hill-Belgravia: Uncategorized\n",
      "Broadview North: Uncategorized\n",
      "Brookhaven-Amesbury: Uncategorized\n",
      "Cabbagetown-South St. James Town: Central Toronto\n",
      "Caledonia-Fairbank: Uncategorized\n",
      "Casa Loma: Uncategorized\n",
      "Church-Wellesley: Central Toronto\n",
      "Downtown Yonge East: Central Toronto\n",
      "Clairlea-Birchmount: Uncategorized\n",
      "Clanton Park: Uncategorized\n",
      "Cliffcrest: Uncategorized\n",
      "Danforth Village-East York: Uncategorized\n",
      "Don Valley Village: North York\n",
      "Pleasant View: North York\n",
      "Dorset Park: North York\n",
      "Dovercourt Village: North York\n",
      "Junction-Wallace Emerson: North York\n",
      "Junction: North York\n",
      "Downsview: North York\n",
      "Oakdale-Beverly Heights: Uncategorized\n",
      "Dufferin Grove: Uncategorized\n",
      "Little Portugal: Uncategorized\n",
      "East End-Danforth: Scarborough\n",
      "Edenbridge-Humber Valley: Uncategorized\n",
      "Eglinton East: Uncategorized\n",
      "Elms-Old Rexdale: Uncategorized\n",
      "Englemount-Lawrence: Uncategorized\n",
      "Eringate-Centennial-West Deane: Etobicoke\n",
      "Etobicoke West Mall: Uncategorized\n",
      "Flemingdon Park: Uncategorized\n",
      "Forest Hill North: Uncategorized\n",
      "Forest Hill South: Uncategorized\n",
      "Guildwood: Uncategorized\n",
      "Henry Farm: Uncategorized\n",
      "High Park North: Uncategorized\n",
      "High Park-Swansea: Uncategorized\n",
      "Humber Heights-Westmount: Uncategorized\n",
      "Humewood-Cedarvale: Uncategorized\n",
      "Ionview: Uncategorized\n",
      "Islington: Etobicoke\n",
      "Keelesdale-Eglinton West: Uncategorized\n",
      "Kennedy Park: Uncategorized\n",
      "Kensington-Chinatown: Central Toronto\n",
      "Kingsview Village-The Westway: Uncategorized\n",
      "Kingsway South: Etobicoke\n",
      "Lambton Baby Point: Uncategorized\n",
      "East L'Amoreaux: Uncategorized\n",
      "West L'Amoreaux: Uncategorized\n",
      "Steeles: Etobicoke\n",
      "Milliken: Uncategorized\n",
      "Lansing-Westgate: North York\n",
      "Lawrence Park North: North York\n",
      "Lawrence Park South: North York\n",
      "Leaside-Bennington: North York\n",
      "Little Italy: Central Toronto\n",
      "Trinity-Bellwoods: Central Toronto\n",
      "Long Branch: Uncategorized\n",
      "Maple Leaf: Uncategorized\n",
      "Humber Bay Shores: Uncategorized\n",
      "Mimico-Queensway: Etobicoke\n",
      "Morningside Heights: Uncategorized\n",
      "Moss Park: Uncategorized\n",
      "Regent Park: Uncategorized\n",
      "Mount Dennis: Uncategorized\n",
      "Mount Olive-Silverstone-Jamestown: Uncategorized\n",
      "Thistletown: Uncategorized\n",
      "Mount Pleasant East: Uncategorized\n",
      "North Toronto: North York\n",
      "South Eglinton-Davisville: North York\n",
      "New Toronto: Uncategorized\n",
      "North St. James Town: Uncategorized\n",
      "Oakridge: Uncategorized\n",
      "Oakwood-Vaughan: Uncategorized\n",
      "O'Connor-Parkview: Uncategorized\n",
      "Old East York: Uncategorized\n",
      "Fenside-Parkwoods: North York\n",
      "Parkwoods-O'Connor Hills: North York\n",
      "Playter Estates-Danforth: Uncategorized\n",
      "Princess-Rosethorn: Uncategorized\n",
      "Rexdale-Kipling: Uncategorized\n",
      "North Riverdale: Uncategorized\n",
      "South Riverdale: Uncategorized\n",
      "Rockcliffe-Smythe: Uncategorized\n",
      "Roncesvalles: Uncategorized\n",
      "Rosedale: Uncategorized\n",
      "Morningside: Scarborough\n",
      "Rouge: Scarborough\n",
      "Rustic: Uncategorized\n",
      "Pelmo Park: Uncategorized\n",
      "Humberlea: Uncategorized\n",
      "Scarborough Village: Scarborough\n",
      "South Parkdale: Uncategorized\n",
      "St. Andrew-Windfields: Uncategorized\n",
      "Stonegate-Queensway: Uncategorized\n",
      "Tam O'Shanter-Sullivan: Uncategorized\n",
      "The Beaches: Scarborough\n",
      "Thorncliffe Park: Scarborough\n",
      "University: Uncategorized\n",
      "Annex: Central Toronto\n",
      "Victoria Village: Central Toronto\n",
      "Harbourfront-CityPlace: Uncategorized\n",
      "St Lawrence-East Bayfront The Islands: Uncategorized\n",
      "Wellington Place: Uncategorized\n",
      "West Hill: Uncategorized\n",
      "West Humber-Clairville: Etobicoke\n",
      "Westminster-Branson: Uncategorized\n",
      "Weston: Uncategorized\n",
      "Weston-Pelham Park: Uncategorized\n",
      "Wexford-Maryvale: Uncategorized\n",
      "Avondale: Uncategorized\n",
      "Willowdale East: North York\n",
      "Yonge-Doris: Uncategorized\n",
      "Newtonbrook East: North York\n",
      "Willowdale West: North York\n",
      "Newtonbrook West: North York\n",
      "Willowridge-Martingrove-Richview: Uncategorized\n",
      "Golfdale-Cedarbrae-Woburn: Uncategorized\n",
      "Woburn North: Uncategorized\n",
      "Woodbine Corridor: Uncategorized\n",
      "Greenwood-Coxwell: Uncategorized\n",
      "Woodbine-Lumsden: Uncategorized\n",
      "Wychwood: Uncategorized\n",
      "Yonge-Eglinton: Uncategorized\n",
      "Yonge-St. Clair: Uncategorized\n"
     ]
    }
   ],
   "source": [
    "# List of neighborhoods\n",
    "neighborhoods = ['Toronto', 'Agincourt North', 'Agincourt South-Malvern West', 'Malvern East', 'Malvern West',\n",
    "                 'Alderwood', 'Banbury-Don Mills', 'York Mills', 'Bathurst Manor', 'Bay-Cloverhill', 'Yonge-Bay Corridor',\n",
    "                 'Bayview Village', 'Bayview Woods-Steeles', 'Hillcrest Village', 'Bedford Park-Nortown', 'Beechborough-Greenbrook',\n",
    "                 'Bendale South', 'Bendale-Glen Andrew', 'Birchcliffe-Cliffside', 'Black Creek', 'Briar Hill-Belgravia',\n",
    "                 'Broadview North', 'Brookhaven-Amesbury', 'Cabbagetown-South St. James Town', 'Caledonia-Fairbank', 'Casa Loma',\n",
    "                 'Church-Wellesley', 'Downtown Yonge East', 'Clairlea-Birchmount', 'Clanton Park', 'Cliffcrest',\n",
    "                 'Danforth Village-East York', 'Don Valley Village', 'Pleasant View', 'Dorset Park', 'Dovercourt Village',\n",
    "                 'Junction-Wallace Emerson', 'Junction', 'Downsview', 'Oakdale-Beverly Heights', 'Dufferin Grove', 'Little Portugal',\n",
    "                 'East End-Danforth', 'Edenbridge-Humber Valley', 'Eglinton East', 'Elms-Old Rexdale', 'Englemount-Lawrence',\n",
    "                 'Eringate-Centennial-West Deane', 'Etobicoke West Mall', 'Flemingdon Park', 'Forest Hill North', 'Forest Hill South',\n",
    "                 'Guildwood', 'Henry Farm', 'High Park North', 'High Park-Swansea', 'Humber Heights-Westmount', 'Humewood-Cedarvale',\n",
    "                 'Ionview', 'Islington', 'Keelesdale-Eglinton West', 'Kennedy Park', 'Kensington-Chinatown', 'Kingsview Village-The Westway',\n",
    "                 'Kingsway South', 'Lambton Baby Point', \"East L'Amoreaux\", \"West L'Amoreaux\", 'Steeles', 'Milliken',\n",
    "                 'Lansing-Westgate', 'Lawrence Park North', 'Lawrence Park South', 'Leaside-Bennington', 'Little Italy',\n",
    "                 'Trinity-Bellwoods', 'Long Branch', 'Maple Leaf', 'Humber Bay Shores', 'Mimico-Queensway', 'Morningside Heights',\n",
    "                 'Moss Park', 'Regent Park', 'Mount Dennis', 'Mount Olive-Silverstone-Jamestown', 'Thistletown', 'Mount Pleasant East',\n",
    "                 'North Toronto', 'South Eglinton-Davisville', 'New Toronto', 'North St. James Town', 'Oakridge', 'Oakwood-Vaughan',\n",
    "                 \"O'Connor-Parkview\", 'Old East York', 'Fenside-Parkwoods', \"Parkwoods-O'Connor Hills\", 'Playter Estates-Danforth',\n",
    "                 'Princess-Rosethorn', 'Rexdale-Kipling', 'North Riverdale', 'South Riverdale', 'Rockcliffe-Smythe', 'Roncesvalles',\n",
    "                 'Rosedale', 'Morningside', 'Rouge', 'Rustic', 'Pelmo Park', 'Humberlea', 'Scarborough Village', 'South Parkdale',\n",
    "                 'St. Andrew-Windfields', 'Stonegate-Queensway', \"Tam O'Shanter-Sullivan\", 'The Beaches', 'Thorncliffe Park',\n",
    "                 'University', 'Annex', 'Victoria Village', 'Harbourfront-CityPlace', 'St Lawrence-East Bayfront The Islands',\n",
    "                 'Wellington Place', 'West Hill', 'West Humber-Clairville', 'Westminster-Branson', 'Weston', 'Weston-Pelham Park',\n",
    "                 'Wexford-Maryvale', 'Avondale', 'Willowdale East', 'Yonge-Doris', 'Newtonbrook East', 'Willowdale West',\n",
    "                 'Newtonbrook West', 'Willowridge-Martingrove-Richview', 'Golfdale-Cedarbrae-Woburn', 'Woburn North', 'Woodbine Corridor',\n",
    "                 'Greenwood-Coxwell', 'Woodbine-Lumsden', 'Wychwood', 'Yonge-Eglinton', 'Yonge-St. Clair']\n",
    "\n",
    "# Example groupings (you can adjust this to your needs)\n",
    "groupings = {\n",
    "    'Central Toronto': ['Toronto', 'Yonge-Bay Corridor', 'Bayview Village', 'Bayview Woods-Steeles', 'Church-Wellesley', 'Downtown Yonge East',\n",
    "                        'Cabbagetown-South St. James Town', 'Kensington-Chinatown', 'Little Italy', 'Trinity-Bellwoods', 'Annex', 'Victoria Village'],\n",
    "    'Scarborough': ['Agincourt North', 'Agincourt South-Malvern West', 'Malvern East', 'Malvern West', 'Bendale South', 'Bendale-Glen Andrew',\n",
    "                    'Birchcliffe-Cliffside', 'Scarborough Village', 'East End-Danforth', 'Morningside', 'Rouge', 'Thorncliffe Park', 'The Beaches'],\n",
    "    'Etobicoke': ['Alderwood', 'Islington', 'Kingsway South', 'Steeles', 'Mimico-Queensway', 'West Humber-Clairville', 'Eringate-Centennial-West Deane'],\n",
    "    'North York': ['Bathurst Manor', 'York Mills', 'Bay-Cloverhill', 'Bayview Woods-Steeles', 'Bedford Park-Nortown', 'Don Valley Village', 'Pleasant View',\n",
    "                   'Dorset Park', 'Dovercourt Village', 'Junction-Wallace Emerson', 'Junction', 'Downsview', 'Lansing-Westgate', 'Lawrence Park North',\n",
    "                   'Lawrence Park South', 'Leaside-Bennington', 'Lawrence Park North', 'North Toronto', 'South Eglinton-Davisville', 'Willowdale East',\n",
    "                   'Willowdale West', 'Newtonbrook East', 'Newtonbrook West', 'Fenside-Parkwoods', 'Parkwoods-O\\'Connor Hills']\n",
    "}\n",
    "\n",
    "# Create a mapping for each neighborhood\n",
    "neighborhood_group = {}\n",
    "\n",
    "# Assign neighborhoods to their respective groups\n",
    "for group, neighborhoods_in_group in groupings.items():\n",
    "    for neighborhood in neighborhoods_in_group:\n",
    "        neighborhood_group[neighborhood] = group\n",
    "\n",
    "# Display the result\n",
    "for neighborhood in neighborhoods:\n",
    "    print(f\"{neighborhood}: {neighborhood_group.get(neighborhood, 'Uncategorized')}\")"
   ]
  },
  {
   "cell_type": "code",
   "execution_count": 15,
   "id": "5d01b9d0",
   "metadata": {},
   "outputs": [
    {
     "ename": "NameError",
     "evalue": "name 'gpd' is not defined",
     "output_type": "error",
     "traceback": [
      "\u001b[1;31m---------------------------------------------------------------------------\u001b[0m",
      "\u001b[1;31mNameError\u001b[0m                                 Traceback (most recent call last)",
      "Cell \u001b[1;32mIn[15], line 1\u001b[0m\n\u001b[1;32m----> 1\u001b[0m neighborhoods \u001b[38;5;241m=\u001b[39m gpd\u001b[38;5;241m.\u001b[39mread_file(\u001b[38;5;124m'\u001b[39m\u001b[38;5;124mFloodline_TRCA_Polygon.shp\u001b[39m\u001b[38;5;124m'\u001b[39m)\n\u001b[0;32m      3\u001b[0m neighborhoods\u001b[38;5;241m.\u001b[39mhead()\n",
      "\u001b[1;31mNameError\u001b[0m: name 'gpd' is not defined"
     ]
    }
   ],
   "source": [
    "neighborhoods = gpd.read_file('Floodline_TRCA_Polygon.shp')\n",
    "\n",
    "neighborhoods.head()"
   ]
  },
  {
   "cell_type": "code",
   "execution_count": null,
   "id": "2d46da68",
   "metadata": {},
   "outputs": [],
   "source": []
  },
  {
   "cell_type": "code",
   "execution_count": null,
   "id": "bcb86912",
   "metadata": {},
   "outputs": [],
   "source": []
  },
  {
   "cell_type": "code",
   "execution_count": null,
   "id": "44ea6ed7",
   "metadata": {},
   "outputs": [],
   "source": []
  },
  {
   "cell_type": "markdown",
   "id": "e2b36f16",
   "metadata": {
    "jp-MarkdownHeadingCollapsed": true
   },
   "source": [
    "# 3. Feature Engineering\n",
    "Once we've acquired a comprehensive understanding of the dataset, we can proceed with feature engineering."
   ]
  },
  {
   "cell_type": "markdown",
   "id": "b77e931c-cec2-4150-9cd6-a866a7374327",
   "metadata": {
    "jp-MarkdownHeadingCollapsed": true
   },
   "source": [
    "### 3.a Time feature engineering"
   ]
  },
  {
   "cell_type": "code",
   "execution_count": null,
   "id": "6f9d7eaf-6eb1-4ffc-a1de-9f9506b2a358",
   "metadata": {},
   "outputs": [],
   "source": []
  },
  {
   "cell_type": "markdown",
   "id": "9b2ec3d4-8b53-4fc8-a17f-5ddff0e0e565",
   "metadata": {
    "jp-MarkdownHeadingCollapsed": true
   },
   "source": [
    "### 3.b Location Feature Engineering\n"
   ]
  },
  {
   "cell_type": "code",
   "execution_count": null,
   "id": "d7b949bb-7c87-4350-a5e9-de940dc0bec6",
   "metadata": {},
   "outputs": [],
   "source": []
  },
  {
   "cell_type": "markdown",
   "id": "e84dcaa6-2593-4ab9-a0f7-f656d8612463",
   "metadata": {
    "jp-MarkdownHeadingCollapsed": true
   },
   "source": [
    "### 3.c Weather Feature Engineering"
   ]
  },
  {
   "cell_type": "code",
   "execution_count": null,
   "id": "7e88f4b0-3369-4359-9978-594d685b4b71",
   "metadata": {},
   "outputs": [],
   "source": []
  },
  {
   "cell_type": "markdown",
   "id": "a4fca256-5576-4348-90a9-4faa29b2ff37",
   "metadata": {
    "jp-MarkdownHeadingCollapsed": true
   },
   "source": [
    "### 3.d Feature engineering comparison and evaluation"
   ]
  },
  {
   "cell_type": "code",
   "execution_count": null,
   "id": "14948e09-f5d7-412b-a9c5-26a63027f3cf",
   "metadata": {},
   "outputs": [],
   "source": []
  },
  {
   "cell_type": "markdown",
   "id": "af6e5795-8a50-472b-b6da-fec02516c78e",
   "metadata": {
    "jp-MarkdownHeadingCollapsed": true
   },
   "source": [
    "# Feature Engineering Complete Function"
   ]
  },
  {
   "cell_type": "code",
   "execution_count": null,
   "id": "c9c2ce95-e792-4534-97fa-ea22b3d629cf",
   "metadata": {},
   "outputs": [],
   "source": []
  },
  {
   "cell_type": "code",
   "execution_count": null,
   "id": "acfb6c05-2266-4c31-aae5-b625a36ddefd",
   "metadata": {},
   "outputs": [],
   "source": []
  },
  {
   "cell_type": "code",
   "execution_count": null,
   "id": "259c390b-65a9-4e89-8fca-16d90b45598a",
   "metadata": {},
   "outputs": [],
   "source": []
  }
 ],
 "metadata": {
  "kernelspec": {
   "display_name": "base",
   "language": "python",
   "name": "python3"
  },
  "language_info": {
   "codemirror_mode": {
    "name": "ipython",
    "version": 3
   },
   "file_extension": ".py",
   "mimetype": "text/x-python",
   "name": "python",
   "nbconvert_exporter": "python",
   "pygments_lexer": "ipython3",
   "version": "3.12.4"
  }
 },
 "nbformat": 4,
 "nbformat_minor": 5
}
